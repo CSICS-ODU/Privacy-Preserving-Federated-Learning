{
 "cells": [
  {
   "cell_type": "code",
   "execution_count": 3,
   "id": "779faf36-2612-4e9c-8542-12a198c2cd44",
   "metadata": {
    "tags": []
   },
   "outputs": [
    {
     "name": "stdout",
     "output_type": "stream",
     "text": [
      "/opt/conda/lib/python3.7/site-packages/torchvision/io/image.py:13: UserWarning: Failed to load image Python extension: /opt/conda/lib/python3.7/site-packages/torchvision/image.so: undefined symbol: _ZN2at4_ops19empty_memory_format4callEN3c108ArrayRefIlEENS2_8optionalINS2_10ScalarTypeEEENS5_INS2_6LayoutEEENS5_INS2_6DeviceEEENS5_IbEENS5_INS2_12MemoryFormatEEE\n",
      "  warn(f\"Failed to load image Python extension: {e}\")\n",
      "Files already downloaded and verified\n",
      "Files already downloaded and verified\n",
      "Using cache found in /home/saham001/.cache/torch/hub/NVIDIA_DeepLearningExamples_torchhub\n",
      "/home/saham001/.cache/torch/hub/NVIDIA_DeepLearningExamples_torchhub/PyTorch/Classification/ConvNets/image_classification/models/common.py:14: UserWarning: pytorch_quantization module not found, quantization will not be available\n",
      "  \"pytorch_quantization module not found, quantization will not be available\"\n",
      "/home/saham001/.cache/torch/hub/NVIDIA_DeepLearningExamples_torchhub/PyTorch/Classification/ConvNets/image_classification/models/efficientnet.py:18: UserWarning: pytorch_quantization module not found, quantization will not be available\n",
      "  \"pytorch_quantization module not found, quantization will not be available\"\n",
      "---------------------\n",
      "Train/Test accuracy: 89.68 80.94\n",
      " confidence-based MI attack AUC: 0.5388851750000001\n",
      "Gap attack AUC: 0.54665\n",
      "---------------------\n"
     ]
    }
   ],
   "source": [
    "!python membership_inference_attack.py -em FLglobalmodel"
   ]
  },
  {
   "cell_type": "code",
   "execution_count": 62,
   "id": "100d29e8-0046-47e4-81c5-1104ef167f5d",
   "metadata": {},
   "outputs": [],
   "source": [
    "model_name = \"efficientnet\"\n",
    "dataset_name = \"incrementalCIFAR100_3_1\"\n",
    "num_clients = 2\n",
    "lr = 0.01\n",
    "epochs = 1\n",
    "data_path=\"~/dataset\","
   ]
  },
  {
   "cell_type": "code",
   "execution_count": 63,
   "id": "30838896-d7ef-4096-9c10-9dec4b25493f",
   "metadata": {
    "tags": []
   },
   "outputs": [],
   "source": [
    "dataset_parameters_list = dataset_name.split(\"_\")"
   ]
  },
  {
   "cell_type": "code",
   "execution_count": 64,
   "id": "dac238bb-ae5d-4350-9f05-44c7b6aaeffe",
   "metadata": {
    "tags": []
   },
   "outputs": [],
   "source": [
    "if len(dataset_parameters_list) == 2:\n",
    "    dataset_name, data_index = dataset_parameters_list\n",
    "    data_index = int(data_index)\n",
    "    split=None\n",
    "else:\n",
    "    dataset_name, split, data_index = dataset_parameters_list\n",
    "    data_index= int(data_index)\n",
    "    split=int(split)"
   ]
  },
  {
   "cell_type": "code",
   "execution_count": null,
   "id": "b1b87d39-2c58-403a-9665-43e22f0dc48c",
   "metadata": {},
   "outputs": [],
   "source": []
  },
  {
   "cell_type": "code",
   "execution_count": 65,
   "id": "37944ac2-ac69-45e5-9eea-f89cbfd75a54",
   "metadata": {
    "tags": []
   },
   "outputs": [],
   "source": [
    "from utilities.datasets import load_partitioned_datasets"
   ]
  },
  {
   "cell_type": "code",
   "execution_count": 66,
   "id": "604d9532-876e-477a-baa1-6a70fe3474c7",
   "metadata": {
    "tags": []
   },
   "outputs": [
    {
     "name": "stdout",
     "output_type": "stream",
     "text": [
      "Files already downloaded and verified\n",
      "Files already downloaded and verified\n"
     ]
    },
    {
     "name": "stderr",
     "output_type": "stream",
     "text": [
      "                  \r"
     ]
    }
   ],
   "source": [
    "[trainloader, valloaders, testloader, _ ], num_channels, num_classes = load_partitioned_datasets(num_clients=num_clients, dataset_name=dataset_name, \n",
    "                                                                                                         data_path=data_path, batch_size=32,split=split) "
   ]
  },
  {
   "cell_type": "code",
   "execution_count": 67,
   "id": "99963ae3-5108-44b8-a118-4cf0deefb154",
   "metadata": {
    "tags": []
   },
   "outputs": [],
   "source": [
    "train_loader = trainloader[data_index]\n",
    "valloader = valloaders[data_index]"
   ]
  },
  {
   "cell_type": "code",
   "execution_count": 68,
   "id": "0a4211b6-97cd-44af-a657-a35b4a5f3ee0",
   "metadata": {
    "tags": []
   },
   "outputs": [
    {
     "data": {
      "text/plain": [
       "(125, 14, 1094)"
      ]
     },
     "execution_count": 68,
     "metadata": {},
     "output_type": "execute_result"
    }
   ],
   "source": [
    "len(train_loader),len(valloader),len(testloader)"
   ]
  },
  {
   "cell_type": "code",
   "execution_count": 69,
   "id": "ccffca75-d0ce-4ccf-b96e-8e664e31badc",
   "metadata": {},
   "outputs": [
    {
     "data": {
      "text/plain": [
       "2"
      ]
     },
     "execution_count": 69,
     "metadata": {},
     "output_type": "execute_result"
    }
   ],
   "source": [
    "len(trainloader)"
   ]
  },
  {
   "cell_type": "code",
   "execution_count": null,
   "id": "05c33b86-af45-490e-ad01-0cdae0d6e34c",
   "metadata": {},
   "outputs": [],
   "source": []
  }
 ],
 "metadata": {
  "kernelspec": {
   "display_name": "Python 3 (ipykernel)",
   "language": "python",
   "name": "python3"
  },
  "language_info": {
   "codemirror_mode": {
    "name": "ipython",
    "version": 3
   },
   "file_extension": ".py",
   "mimetype": "text/x-python",
   "name": "python",
   "nbconvert_exporter": "python",
   "pygments_lexer": "ipython3",
   "version": "3.7.13"
  }
 },
 "nbformat": 4,
 "nbformat_minor": 5
}
