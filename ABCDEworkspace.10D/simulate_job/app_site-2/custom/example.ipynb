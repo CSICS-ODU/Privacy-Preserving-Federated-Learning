{
 "cells": [
  {
   "cell_type": "code",
   "execution_count": 1,
   "id": "779faf36-2612-4e9c-8542-12a198c2cd44",
   "metadata": {
    "tags": []
   },
   "outputs": [
    {
     "name": "stdout",
     "output_type": "stream",
     "text": [
      "/opt/conda/lib/python3.7/site-packages/torchvision/io/image.py:13: UserWarning: Failed to load image Python extension: /opt/conda/lib/python3.7/site-packages/torchvision/image.so: undefined symbol: _ZN2at4_ops19empty_memory_format4callEN3c108ArrayRefIlEENS2_8optionalINS2_10ScalarTypeEEENS5_INS2_6LayoutEEENS5_INS2_6DeviceEEENS5_IbEENS5_INS2_12MemoryFormatEEE\n",
      "  warn(f\"Failed to load image Python extension: {e}\")\n",
      "Unknown dataset name: incrementalCIFAR100-3\n",
      "Files already downloaded and verified\n",
      "Files already downloaded and verified\n",
      "Using cache found in /home/saham001/.cache/torch/hub/NVIDIA_DeepLearningExamples_torchhub\n",
      "/home/saham001/.cache/torch/hub/NVIDIA_DeepLearningExamples_torchhub/PyTorch/Classification/ConvNets/image_classification/models/common.py:14: UserWarning: pytorch_quantization module not found, quantization will not be available\n",
      "  \"pytorch_quantization module not found, quantization will not be available\"\n",
      "/home/saham001/.cache/torch/hub/NVIDIA_DeepLearningExamples_torchhub/PyTorch/Classification/ConvNets/image_classification/models/efficientnet.py:18: UserWarning: pytorch_quantization module not found, quantization will not be available\n",
      "  \"pytorch_quantization module not found, quantization will not be available\"\n",
      "---------------------\n",
      "Train/Test accuracy: 95.17 57.0\n",
      "confidence-based MI attack AUC: 0.7022923259493672\n",
      "Gap attack AUC: 0.6906724683544305\n",
      "---------------------\n"
     ]
    }
   ],
   "source": [
    "!python membership_inference_attack.py -d incrementalCIFAR100-3 -em FLglobalmodelD"
   ]
  },
  {
   "cell_type": "code",
   "execution_count": null,
   "id": "100d29e8-0046-47e4-81c5-1104ef167f5d",
   "metadata": {},
   "outputs": [
    {
     "name": "stdout",
     "output_type": "stream",
     "text": [
      "2024-06-24 18:42:58.276980: I tensorflow/core/platform/cpu_feature_guard.cc:193] This TensorFlow binary is optimized with oneAPI Deep Neural Network Library (oneDNN) to use the following CPU instructions in performance-critical operations:  SSE4.1 SSE4.2 AVX AVX2 AVX512F FMA\n",
      "To enable them in other operations, rebuild TensorFlow with the appropriate compiler flags.\n",
      "/opt/conda/lib/python3.7/site-packages/torchvision/io/image.py:13: UserWarning: Failed to load image Python extension: /opt/conda/lib/python3.7/site-packages/torchvision/image.so: undefined symbol: _ZN2at4_ops19empty_memory_format4callEN3c108ArrayRefIlEENS2_8optionalINS2_10ScalarTypeEEENS5_INS2_6LayoutEEENS5_INS2_6DeviceEEENS5_IbEENS5_INS2_12MemoryFormatEEE\n",
      "  warn(f\"Failed to load image Python extension: {e}\")\n",
      "\n",
      "Training efficientnet with incrementalCIFAR100 in Tesla V100-SXM2-16GB using PyTorch 1.13.1+cu117 and NVFlare 2.2.6\n",
      "Files already downloaded and verified\n",
      "Files already downloaded and verified\n",
      "Using cache found in /home/saham001/.cache/torch/hub/NVIDIA_DeepLearningExamples_torchhub\n",
      "/home/saham001/.cache/torch/hub/NVIDIA_DeepLearningExamples_torchhub/PyTorch/Classification/ConvNets/image_classification/models/common.py:14: UserWarning: pytorch_quantization module not found, quantization will not be available\n",
      "  \"pytorch_quantization module not found, quantization will not be available\"\n",
      "/home/saham001/.cache/torch/hub/NVIDIA_DeepLearningExamples_torchhub/PyTorch/Classification/ConvNets/image_classification/models/efficientnet.py:18: UserWarning: pytorch_quantization module not found, quantization will not be available\n",
      "  \"pytorch_quantization module not found, quantization will not be available\"\n",
      "Files already downloaded and verified\n",
      "Files already downloaded and verified\n",
      "                  \n",
      "\n",
      "\n",
      "Epoch 1: train loss 0.069, val loss: 0.061, train acc 0.324, val acc: 0.417\n",
      "\n",
      "\n",
      "\n",
      "\n",
      "\n",
      "\n",
      "Epoch 2: train loss 0.052, val loss: 0.052, train acc 0.482, val acc: 0.485\n",
      "\n",
      "\n",
      "\n",
      "\n",
      "\n",
      "\n",
      "Epoch 3: train loss 0.044, val loss: 0.050, train acc 0.551, val acc: 0.514\n",
      "\n",
      "\n",
      "\n",
      "Traceback (most recent call last):\n",
      "  File \"/home/saham001/Flare_main/Privacy-Preserving-Federated-Learning/code/utilities/plot_utils.py\", line 11, in build_ROC\n",
      "    fpr, tpr, thresholds = roc_curve(gold, pred)\n",
      "  File \"/home/saham001/envs/ppfl/lib/python3.7/site-packages/sklearn/metrics/_ranking.py\", line 963, in roc_curve\n",
      "    y_true, y_score, pos_label=pos_label, sample_weight=sample_weight\n",
      "  File \"/home/saham001/envs/ppfl/lib/python3.7/site-packages/sklearn/metrics/_ranking.py\", line 731, in _binary_clf_curve\n",
      "    raise ValueError(\"{0} format is not supported\".format(y_type))\n",
      "ValueError: multiclass format is not supported\n",
      "--Return--\n",
      "> /home/saham001/Flare_main/Privacy-Preserving-Federated-Learning/code/utilities/plot_utils.py(33)build_ROC()->None\n",
      "-> pdb.set_trace()\n",
      "\u001b[?2004h(Pdb) "
     ]
    }
   ],
   "source": [
    "!python continuous.py -d incrementalCIFAR100 -e 3"
   ]
  },
  {
   "cell_type": "code",
   "execution_count": null,
   "id": "639eb79c-b143-4325-8728-d14893bd859f",
   "metadata": {
    "tags": []
   },
   "outputs": [],
   "source": []
  },
  {
   "cell_type": "code",
   "execution_count": null,
   "id": "96e80c6f-28e3-44f3-af2b-3b6f4432d365",
   "metadata": {},
   "outputs": [],
   "source": []
  },
  {
   "cell_type": "code",
   "execution_count": null,
   "id": "15bdfa03-827c-46ea-90e0-1e1d5a8a84bb",
   "metadata": {},
   "outputs": [],
   "source": []
  }
 ],
 "metadata": {
  "kernelspec": {
   "display_name": "Python 3 (ipykernel)",
   "language": "python",
   "name": "python3"
  },
  "language_info": {
   "codemirror_mode": {
    "name": "ipython",
    "version": 3
   },
   "file_extension": ".py",
   "mimetype": "text/x-python",
   "name": "python",
   "nbconvert_exporter": "python",
   "pygments_lexer": "ipython3",
   "version": "3.7.13"
  }
 },
 "nbformat": 4,
 "nbformat_minor": 5
}
